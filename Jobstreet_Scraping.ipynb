{
  "cells": [
    {
      "cell_type": "markdown",
      "metadata": {
        "id": "view-in-github",
        "colab_type": "text"
      },
      "source": [
        "<a href=\"https://colab.research.google.com/github/bimasaktikr/jobstreet-scraping/blob/main/Jobstreet_Scraping.ipynb\" target=\"_parent\"><img src=\"https://colab.research.google.com/assets/colab-badge.svg\" alt=\"Open In Colab\"/></a>"
      ]
    },
    {
      "cell_type": "markdown",
      "metadata": {
        "id": "n6wVBSyHRdoD"
      },
      "source": [
        "**Install Requirement**"
      ]
    },
    {
      "cell_type": "code",
      "execution_count": null,
      "metadata": {
        "colab": {
          "base_uri": "https://localhost:8080/"
        },
        "id": "60_VpKc8G8G4",
        "outputId": "b132381b-c006-421f-fc79-1c89982c3e6a"
      },
      "outputs": [
        {
          "output_type": "stream",
          "name": "stdout",
          "text": [
            "Looking in indexes: https://pypi.org/simple, https://us-python.pkg.dev/colab-wheels/public/simple/\n",
            "Collecting requests-html\n",
            "  Downloading requests_html-0.10.0-py3-none-any.whl (13 kB)\n",
            "Collecting pyquery\n",
            "  Downloading pyquery-1.4.3-py3-none-any.whl (22 kB)\n",
            "Collecting parse\n",
            "  Downloading parse-1.19.0.tar.gz (30 kB)\n",
            "Requirement already satisfied: bs4 in /usr/local/lib/python3.7/dist-packages (from requests-html) (0.0.1)\n",
            "Requirement already satisfied: requests in /usr/local/lib/python3.7/dist-packages (from requests-html) (2.23.0)\n",
            "Collecting w3lib\n",
            "  Downloading w3lib-2.0.1-py3-none-any.whl (20 kB)\n",
            "Collecting fake-useragent\n",
            "  Downloading fake-useragent-0.1.11.tar.gz (13 kB)\n",
            "Collecting pyppeteer>=0.0.14\n",
            "  Downloading pyppeteer-1.0.2-py3-none-any.whl (83 kB)\n",
            "\u001b[K     |████████████████████████████████| 83 kB 2.2 MB/s \n",
            "\u001b[?25hRequirement already satisfied: certifi>=2021 in /usr/local/lib/python3.7/dist-packages (from pyppeteer>=0.0.14->requests-html) (2022.6.15)\n",
            "Requirement already satisfied: tqdm<5.0.0,>=4.42.1 in /usr/local/lib/python3.7/dist-packages (from pyppeteer>=0.0.14->requests-html) (4.64.1)\n",
            "Collecting pyee<9.0.0,>=8.1.0\n",
            "  Downloading pyee-8.2.2-py2.py3-none-any.whl (12 kB)\n",
            "Collecting urllib3<2.0.0,>=1.25.8\n",
            "  Downloading urllib3-1.26.12-py2.py3-none-any.whl (140 kB)\n",
            "\u001b[K     |████████████████████████████████| 140 kB 71.3 MB/s \n",
            "\u001b[?25hRequirement already satisfied: importlib-metadata>=1.4 in /usr/local/lib/python3.7/dist-packages (from pyppeteer>=0.0.14->requests-html) (4.12.0)\n",
            "Collecting websockets<11.0,>=10.0\n",
            "  Downloading websockets-10.3-cp37-cp37m-manylinux_2_5_x86_64.manylinux1_x86_64.manylinux_2_12_x86_64.manylinux2010_x86_64.whl (112 kB)\n",
            "\u001b[K     |████████████████████████████████| 112 kB 71.2 MB/s \n",
            "\u001b[?25hRequirement already satisfied: appdirs<2.0.0,>=1.4.3 in /usr/local/lib/python3.7/dist-packages (from pyppeteer>=0.0.14->requests-html) (1.4.4)\n",
            "Requirement already satisfied: zipp>=0.5 in /usr/local/lib/python3.7/dist-packages (from importlib-metadata>=1.4->pyppeteer>=0.0.14->requests-html) (3.8.1)\n",
            "Requirement already satisfied: typing-extensions>=3.6.4 in /usr/local/lib/python3.7/dist-packages (from importlib-metadata>=1.4->pyppeteer>=0.0.14->requests-html) (4.1.1)\n",
            "Requirement already satisfied: beautifulsoup4 in /usr/local/lib/python3.7/dist-packages (from bs4->requests-html) (4.6.3)\n",
            "Collecting cssselect>0.7.9\n",
            "  Downloading cssselect-1.1.0-py2.py3-none-any.whl (16 kB)\n",
            "Requirement already satisfied: lxml>=2.1 in /usr/local/lib/python3.7/dist-packages (from pyquery->requests-html) (4.9.1)\n",
            "Requirement already satisfied: idna<3,>=2.5 in /usr/local/lib/python3.7/dist-packages (from requests->requests-html) (2.10)\n",
            "Requirement already satisfied: chardet<4,>=3.0.2 in /usr/local/lib/python3.7/dist-packages (from requests->requests-html) (3.0.4)\n",
            "Collecting urllib3<2.0.0,>=1.25.8\n",
            "  Downloading urllib3-1.25.11-py2.py3-none-any.whl (127 kB)\n",
            "\u001b[K     |████████████████████████████████| 127 kB 72.3 MB/s \n",
            "\u001b[?25hBuilding wheels for collected packages: fake-useragent, parse\n",
            "  Building wheel for fake-useragent (setup.py) ... \u001b[?25l\u001b[?25hdone\n",
            "  Created wheel for fake-useragent: filename=fake_useragent-0.1.11-py3-none-any.whl size=13502 sha256=96e0e943867c179eb403b10cd2d1a7403797b69fd0d30fc4ae601c49e787f2e6\n",
            "  Stored in directory: /root/.cache/pip/wheels/ed/f7/62/50ab6c9a0b5567267ab76a9daa9d06315704209b2c5d032031\n",
            "  Building wheel for parse (setup.py) ... \u001b[?25l\u001b[?25hdone\n",
            "  Created wheel for parse: filename=parse-1.19.0-py3-none-any.whl size=24591 sha256=0799a607f34006bfea78c6c7191ad94bd1f847cf7ecc4bf1d60b8d8300cbb405\n",
            "  Stored in directory: /root/.cache/pip/wheels/9c/aa/cc/f2228050ccb40f22144b073f15a2c84f11204f29fc0dce028e\n",
            "Successfully built fake-useragent parse\n",
            "Installing collected packages: websockets, urllib3, pyee, cssselect, w3lib, pyquery, pyppeteer, parse, fake-useragent, requests-html\n",
            "  Attempting uninstall: urllib3\n",
            "    Found existing installation: urllib3 1.24.3\n",
            "    Uninstalling urllib3-1.24.3:\n",
            "      Successfully uninstalled urllib3-1.24.3\n",
            "Successfully installed cssselect-1.1.0 fake-useragent-0.1.11 parse-1.19.0 pyee-8.2.2 pyppeteer-1.0.2 pyquery-1.4.3 requests-html-0.10.0 urllib3-1.25.11 w3lib-2.0.1 websockets-10.3\n",
            "Looking in indexes: https://pypi.org/simple, https://us-python.pkg.dev/colab-wheels/public/simple/\n",
            "Requirement already satisfied: pandas in /usr/local/lib/python3.7/dist-packages (1.3.5)\n",
            "Requirement already satisfied: pytz>=2017.3 in /usr/local/lib/python3.7/dist-packages (from pandas) (2022.2.1)\n",
            "Requirement already satisfied: numpy>=1.17.3 in /usr/local/lib/python3.7/dist-packages (from pandas) (1.21.6)\n",
            "Requirement already satisfied: python-dateutil>=2.7.3 in /usr/local/lib/python3.7/dist-packages (from pandas) (2.8.2)\n",
            "Requirement already satisfied: six>=1.5 in /usr/local/lib/python3.7/dist-packages (from python-dateutil>=2.7.3->pandas) (1.15.0)\n"
          ]
        }
      ],
      "source": [
        "!pip install requests-html\n",
        "!pip install pandas"
      ]
    },
    {
      "cell_type": "markdown",
      "metadata": {
        "id": "9X8kE7AlHBy3"
      },
      "source": [
        "**Import Library yang dibutuhkan**\n",
        "\n"
      ]
    },
    {
      "cell_type": "code",
      "execution_count": null,
      "metadata": {
        "id": "49izGKJOHFiK"
      },
      "outputs": [],
      "source": [
        "from requests_html import HTMLSession\n",
        "import csv\n",
        "from datetime import datetime\n",
        "import pandas as pd\n"
      ]
    },
    {
      "cell_type": "markdown",
      "source": [
        "**Mount Google Drive**"
      ],
      "metadata": {
        "id": "MCthjNTziLNg"
      }
    },
    {
      "cell_type": "code",
      "execution_count": null,
      "metadata": {
        "id": "HoNNEbB-RBiO",
        "colab": {
          "base_uri": "https://localhost:8080/"
        },
        "outputId": "99295f53-841b-446c-aa86-142542f595c4"
      },
      "outputs": [
        {
          "output_type": "stream",
          "name": "stdout",
          "text": [
            "Mounted at /content/drive\n"
          ]
        }
      ],
      "source": [
        "from google.colab import drive\n",
        "drive.mount('/content/drive')"
      ]
    },
    {
      "cell_type": "markdown",
      "source": [
        "**Ambil Link Setiap halaman**"
      ],
      "metadata": {
        "id": "SlAewKIDiS-o"
      }
    },
    {
      "cell_type": "code",
      "execution_count": null,
      "metadata": {
        "id": "LJucs43_ILxB"
      },
      "outputs": [],
      "source": [
        "s = HTMLSession()\n",
        "\n",
        "def get_job_links(page):\n",
        "    url = f'https://www.jobstreet.co.id/id/job-search/job-vacancy.php?pg={page}'\n",
        "    links = []\n",
        "    r = s.get(url)\n",
        "    jobs = r.html.find('div.sx2jih0 h1.sx2jih0')\n",
        "    for item in jobs:\n",
        "        links.append(item.find('a', first=True).attrs['href'])\n",
        "    return(links)"
      ]
    },
    {
      "cell_type": "markdown",
      "source": [
        "**Parse Setiap Lowongan**"
      ],
      "metadata": {
        "id": "IjzTta-OiO13"
      }
    },
    {
      "cell_type": "code",
      "execution_count": null,
      "metadata": {
        "id": "-_x858OhbQB2"
      },
      "outputs": [],
      "source": [
        "# parse_jobs()\n",
        "def parse_jobs(url):\n",
        "    s = HTMLSession()\n",
        "    # r = s.get('https://www.jobstreet.co.id/'+ url)\n",
        "    jobs = {}\n",
        "\n",
        "    while True:\n",
        "        r = s.get('https://www.jobstreet.co.id/'+ url)\n",
        "        # r = s.get('https://www.jobstreet.co.id/id/job/management-trainee-4035514?jobId=jobstreet-id-job-4035514&sectionRank=38&token=0~1b906f5c-10dc-4c4b-b1a5-d9f1e585ad2e&searchPath=%2Fid%2Fjob-search%2Fjob-vacancy.php%3Fpg%3D2&fr=SRP%20View%20In%20New%20Tab')\n",
        "\n",
        "        # company = r.html.find('div.sx2jih0.zcydq86m span.sx2jih0.zcydq84u._18qlyvc0._18qlyvc1x._18qlyvc2._1d0g9qk4._18qlyvcb')\n",
        "        company = r.html.find('div.sx2jih0._17fduda0._17fduda6 div.sx2jih0.zcydq86m span.sx2jih0.zcydq84u._18qlyvc0._18qlyvc1x._18qlyvc2._1d0g9qk4._18qlyvcb')\n",
        "        if company :                                                                                \n",
        "            jobs['company'] = company[0].text\n",
        "            break\n",
        "        # else :\n",
        "        #     jobs['company'] = 'NA'\n",
        "        #     break\n",
        "            \n",
        "\n",
        "    position = r.html.find('div.sx2jih0.zcydq86m h1.sx2jih0._18qlyvc0._18qlyvch._1d0g9qk4._18qlyvcp._18qlyvc1x')\n",
        "    if position:\n",
        "        jobs['position'] = position[0].text\n",
        "\n",
        "    multiplelocation = r.html.find('div.sx2jih0.zcydq8ci span.sx2jih0.zcydq84u._18qlyvc0._18qlyvc1x._18qlyvc1._18qlyvca')\n",
        "    if multiplelocation:\n",
        "        # print(\"multiple:\"+ multiplelocation[0].text)\n",
        "        location = r.html.find('div.sx2jih0.zcydq856.zcydq8fa.zcydq85a span.sx2jih0.zcydq84u._18qlyvc0._18qlyvc1x._18qlyvc1._18qlyvca')\n",
        "        # location = r.html.find('div.sx2jih0.zcydq86i.zcydq87i span.sx2jih0.zcydq84u._18qlyvc0._18qlyvc1x._18qlyvc1._18qlyvca')\n",
        "        # print(len(location))\n",
        "        for i in range(len(location)):\n",
        "            # print(\"lokasi:\" + location[i].text)\n",
        "            limit = ['Beberapa lokasi kerja']\n",
        "            multiLoc = []\n",
        "            if str(location[i].text) == limit[0]:\n",
        "                # print (\"TRUE\")\n",
        "                indexBeberapa = i\n",
        "                # print(indexBeberapa)\n",
        "                for j in range(0, indexBeberapa):\n",
        "                    # print(location[j].text)\n",
        "                    multiLoc.append(location[j].text)\n",
        "                break\n",
        "        locationJoin = ','.join(str(e) for e in multiLoc)\n",
        "        # print(locationJoin)\n",
        "        # locationJoin =''\n",
        "        # for x in multiLoc:\n",
        "        #     locationJoin += ', '+x\n",
        "\n",
        "        jobs['location'] = locationJoin\n",
        "    else:\n",
        "        location =r.html.find('div.sx2jih0.zcydq856 span.sx2jih0.zcydq84u._18qlyvc0._18qlyvc1x._18qlyvc1._18qlyvca')\n",
        "        if location:\n",
        "            jobs['location'] = location[3].text\n",
        "        else:\n",
        "            jobs['location'] = \"NA\"   \n",
        "    # print (jobs)\n",
        "    \n",
        "    span = r.html.find('div.sx2jih0.zcydq856.zcydq8fe._17fduda27')\n",
        "    # spanresults = {}\n",
        "    for i in span:\n",
        "        preText = i.text\n",
        "        afterText = preText.split('\\n')\n",
        "        keyword = ['Tingkat Pekerjaan', \n",
        "                    'Kualifikasi', \n",
        "                    'Pengalaman Kerja', \n",
        "                    'Jenis Pekerjaan', \n",
        "                    'Spesialisasi Pekerjaan',\n",
        "                    'Industri'] \n",
        "        for j in range(len(afterText)):\n",
        "            # print(afterText[j]+\"-----\")\n",
        "            if afterText[j] == keyword[0]:\n",
        "                position_key = afterText[j]\n",
        "                position_value = afterText[j+1]\n",
        "                jobs[position_key] = position_value\n",
        "            elif afterText[j] == keyword[1]:\n",
        "                kualifikasi_key = afterText[j]\n",
        "                kualifikasi_value = afterText[j+1]\n",
        "                jobs[kualifikasi_key] = kualifikasi_value\n",
        "            elif afterText[j] == keyword[2]:\n",
        "                pengalaman_key = afterText[j]\n",
        "                pengalaman_value = afterText[j+1]\n",
        "                jobs[pengalaman_key] = pengalaman_value\n",
        "            elif afterText[j] == keyword[3]:\n",
        "                jenis_key = afterText[j]\n",
        "                jenis_value = afterText[j+1]\n",
        "                jobs[jenis_key] = jenis_value\n",
        "            elif afterText[j] == keyword[4]:\n",
        "                spesialisasi_key = afterText[j]\n",
        "                spesialisasi_value = afterText[j+1]\n",
        "                jobs[spesialisasi_key] = spesialisasi_value\n",
        "            elif afterText[j] == keyword[5]:\n",
        "                industry_key = afterText[j]\n",
        "                industry_value = afterText[j+1]\n",
        "                jobs[industry_key] = industry_value\n",
        "\n",
        "        #Handle Jika ada 1 key yang hilang\n",
        "        if not keyword[2] in jobs:\n",
        "            jobs[keyword[2]] = \"Tidak terspesifikasi\"\n",
        "        if not keyword[3] in jobs:\n",
        "            jobs[keyword[3]] = \"Tidak terspesifikasi\"\n",
        "        if not keyword[4] in jobs:\n",
        "            jobs[keyword[4]] = \"Tidak terspesifikasi\"\n",
        "        if not keyword[5] in jobs:\n",
        "            jobs[keyword[5]] = \"Tidak terspesifikasi\"\n",
        "    print (jobs)         \n",
        "    # currentDate = datetime.now()\n",
        "    return jobs"
      ]
    },
    {
      "cell_type": "markdown",
      "source": [
        "**Mengambil Range Page Jobstreet**"
      ],
      "metadata": {
        "id": "SBaviv-9icqi"
      }
    },
    {
      "cell_type": "code",
      "execution_count": null,
      "metadata": {
        "id": "_ff9LHlN-KNK"
      },
      "outputs": [],
      "source": [
        "def getPageRange():\n",
        "    s = HTMLSession()\n",
        "    url = f'https://www.jobstreet.co.id/id/job-search/job-vacancy.php'\n",
        "    r = s.get(url)\n",
        "    pages = []\n",
        "    page = r.html.find('div.sx2jih0.zcydq86e select.sx2jih0.sx2jih1.sx2jih6.sx2jih7.sx2jiha.zcydq8p.zcydq89i.zcydq85u.zcydq85.tfxl6i0._3dxvbx0._3dxvbx1._18qlyvc0._18qlyvc1x._18qlyvc1._18qlyvca._18qlyvc22._18qlyvc14.zcydq832')\n",
        "    if page:\n",
        "        strpage = str(page[0].text)\n",
        "        afterText = strpage.split('\\n')\n",
        "        awal = afterText[0]\n",
        "        akhir = afterText[len(afterText)-1]\n",
        "    return (awal, akhir)"
      ]
    },
    {
      "cell_type": "markdown",
      "source": [
        "**Membagi Scraper Setiap 100 Halaman**"
      ],
      "metadata": {
        "id": "2wZBTQOaiiyH"
      }
    },
    {
      "cell_type": "code",
      "execution_count": null,
      "metadata": {
        "id": "wDl7SG_m-Poq"
      },
      "outputs": [],
      "source": [
        "def chunkPage():\n",
        "    chunkSize = 5\n",
        "    pageRange = getPageRange()\n",
        "    tempList = []\n",
        "    tempList.append(1)    \n",
        "    for i in range(int(pageRange[0]), int(pageRange[1])):\n",
        "       if (i % 100 == 0):\n",
        "            tempList.append(i+1)\n",
        "    if not ((int(pageRange[1]))%100==0):\n",
        "        tempList.append(int(pageRange[1]))\n",
        "\n",
        "    return tempList"
      ]
    },
    {
      "cell_type": "markdown",
      "source": [
        "**Web Scrap Setiap 100 Halaman**"
      ],
      "metadata": {
        "id": "kvJlMURHiqPd"
      }
    },
    {
      "cell_type": "code",
      "execution_count": null,
      "metadata": {
        "id": "KTpZNL6G-R5R"
      },
      "outputs": [],
      "source": [
        "def chunkedScrapper():\n",
        "    PageList = chunkPage()\n",
        "    print(PageList)\n",
        "    for i in range(0, len(PageList)+1):\n",
        "        scrap(PageList[i], PageList[i+1])\n"
      ]
    },
    {
      "cell_type": "markdown",
      "source": [
        "**Eksport Hasil Scraping**"
      ],
      "metadata": {
        "id": "PHfmDYufiz2X"
      }
    },
    {
      "cell_type": "code",
      "execution_count": null,
      "metadata": {
        "id": "hJEISem2bWpu"
      },
      "outputs": [],
      "source": [
        "def save_csv(results,start, end):\n",
        "    keys = results[0].keys()\n",
        "    # currentDate = datetime.today().strftime('%Y-%m-%d-%H_%M_%S')\n",
        "    currentDate = datetime.today().strftime('%Y-%m-%d-%H')\n",
        "    strDate = str(currentDate)\n",
        "    \n",
        "    ##save to Drive##\n",
        "    path = '/content/drive/MyDrive/0000. Jobs Project/Output/jobs-jobstreet-ID-'+ str(start) + \"_\" + str(end) + '.csv'\n",
        "    with open(path, 'w', encoding = 'utf-8-sig') as f:\n",
        "      df = pd.DataFrame(results)\n",
        "      df.to_csv(f)\n",
        "    \n",
        "    ##save to CSV Local##\n",
        "    # with open('jobs-jobstreet-ind' + strDate + '.csv', 'w', encoding=\"utf-8\") as f:\n",
        "    #     dict_writer = csv.DictWriter(f, keys)\n",
        "    #     dict_writer.writeheader()\n",
        "    #     dict_writer.writerows(results)"
      ]
    },
    {
      "cell_type": "code",
      "execution_count": null,
      "metadata": {
        "id": "6jGDzCO9-VoO"
      },
      "outputs": [],
      "source": [
        "def scrap(start, end):\n",
        "    results = []\n",
        "    for i in range (start,end):\n",
        "        urls = get_job_links(i)\n",
        "        for url in urls:\n",
        "            results.append(parse_jobs(url)) \n",
        "        print('Total Results: ', len(results))\n",
        "        # time.sleep(3)\n",
        "    save_csv(results, start, end)"
      ]
    },
    {
      "cell_type": "code",
      "execution_count": null,
      "metadata": {
        "id": "mUtJnSCacuIY",
        "colab": {
          "base_uri": "https://localhost:8080/"
        },
        "outputId": "0b74ead2-3b04-4b48-eb71-b00953bce356"
      },
      "outputs": [
        {
          "output_type": "stream",
          "name": "stdout",
          "text": [
            "[1, 101, 201, 301, 401, 501, 601, 701, 801, 901, 1001, 1101, 1201, 1301, 1327]\n",
            "{'company': 'PT Dongil Rubber Belt Indonesia', 'position': 'Import & Sales Admin Staff', 'location': 'Jakarta Raya', 'Tingkat Pekerjaan': 'Pegawai (non-manajemen & non-supervisor)', 'Kualifikasi': 'Sertifikat Professional, D3 (Diploma), D4 (Diploma)', 'Pengalaman Kerja': '2 tahun', 'Jenis Pekerjaan': 'Penuh Waktu', 'Spesialisasi Pekerjaan': 'Sumber Daya Manusia/Personalia, Staf / Administrasi umum', 'Industri': 'Automobil/Mesin Tambahan Automotif/Kendaraan'}\n",
            "{'company': 'PT Biotech Indo Gemilang', 'position': 'ADMINISTRASI PEMBELIAN', 'location': 'Jakarta Barat', 'Tingkat Pekerjaan': 'Pegawai (non-manajemen & non-supervisor)', 'Kualifikasi': 'Sertifikat Professional, D3 (Diploma), D4 (Diploma), Sarjana (S1)', 'Pengalaman Kerja': '1 tahun', 'Jenis Pekerjaan': 'Penuh Waktu', 'Spesialisasi Pekerjaan': 'Manufaktur, Pembelian/Manajemen Material', 'Industri': 'Umum & Grosir'}\n",
            "{'company': 'PT Surya Cipta Sempurna', 'position': 'Recruitment Staff', 'location': 'Jakarta Barat', 'Tingkat Pekerjaan': 'Pegawai (non-manajemen & non-supervisor)', 'Kualifikasi': 'Sarjana (S1)', 'Pengalaman Kerja': '1 tahun', 'Jenis Pekerjaan': 'Penuh Waktu', 'Spesialisasi Pekerjaan': 'Sumber Daya Manusia/Personalia, Sumber Daya Manusia / HR', 'Industri': 'Makanan & Minuman/Katering/Restoran'}\n",
            "{'company': 'PT Exa Mitra Solusi', 'position': 'KOORDINATOR ADMIN', 'location': 'Jakarta Barat', 'Tingkat Pekerjaan': 'Supervisor/Koordinator', 'Kualifikasi': 'Sarjana (S1)', 'Pengalaman Kerja': '3 tahun', 'Jenis Pekerjaan': 'Penuh Waktu', 'Spesialisasi Pekerjaan': 'Sumber Daya Manusia/Personalia, Staf / Administrasi umum', 'Industri': 'Manajemen/Konsulting HR'}\n",
            "{'company': 'PT Pangeran Maju Bahagia', 'position': 'Export STAFF', 'location': 'Tangerang', 'Tingkat Pekerjaan': 'Pegawai (non-manajemen & non-supervisor)', 'Kualifikasi': 'Tidak terspesifikasi', 'Pengalaman Kerja': '2 tahun', 'Jenis Pekerjaan': 'Penuh Waktu', 'Spesialisasi Pekerjaan': 'Sumber Daya Manusia/Personalia, Staf / Administrasi umum', 'Industri': 'Retail/Merchandise'}\n",
            "{'company': 'PT United Equipment Indonesia', 'position': 'FINANCE / ACCOUNTING Staff', 'location': 'Jakarta Timur', 'Tingkat Pekerjaan': 'Pegawai (non-manajemen & non-supervisor)', 'Kualifikasi': 'Sertifikat Professional, D3 (Diploma), D4 (Diploma), Sarjana (S1)', 'Pengalaman Kerja': '3 tahun', 'Jenis Pekerjaan': 'Penuh Waktu', 'Spesialisasi Pekerjaan': 'Akuntansi / Keuangan, Akuntansi Umum / Pembiayaan', 'Industri': 'Industri Berat/Mesin/Peralatan'}\n",
            "{'company': 'Paramount Enterprise', 'position': 'Administration Staff (Project 4 Bulan)', 'location': 'Tangerang', 'Tingkat Pekerjaan': 'Pegawai (non-manajemen & non-supervisor)', 'Kualifikasi': 'Sertifikat Professional, D3 (Diploma), D4 (Diploma), Sarjana (S1)', 'Jenis Pekerjaan': 'Penuh Waktu', 'Spesialisasi Pekerjaan': 'Sumber Daya Manusia/Personalia, Staf / Administrasi umum', 'Pengalaman Kerja': 'Tidak terspesifikasi', 'Industri': 'Lainnya'}\n",
            "{'company': 'PT Gamma Buana Persada', 'position': 'Staff HRDGA', 'location': 'Jakarta Raya', 'Tingkat Pekerjaan': 'Pegawai (non-manajemen & non-supervisor)', 'Kualifikasi': 'SMA, SMU/SMK/STM, Sertifikat Professional, D3 (Diploma), D4 (Diploma)', 'Pengalaman Kerja': '2 tahun', 'Jenis Pekerjaan': 'Penuh Waktu', 'Spesialisasi Pekerjaan': 'Sumber Daya Manusia/Personalia, Sumber Daya Manusia / HR', 'Industri': 'Minyak/Gas/Petroleum'}\n",
            "{'company': 'PT Mulia Gunung Mas', 'position': 'Staff Kasir', 'location': 'Bekasi', 'Tingkat Pekerjaan': 'Pegawai (non-manajemen & non-supervisor)', 'Kualifikasi': 'Sertifikat Professional, D3 (Diploma), D4 (Diploma)', 'Pengalaman Kerja': '1 tahun', 'Jenis Pekerjaan': 'Penuh Waktu', 'Spesialisasi Pekerjaan': 'Penjualan / Pemasaran, Penjualan Ritel', 'Industri': 'Transportasi/Logistik'}\n",
            "{'company': 'PT Willbern Autoprima Indonesia', 'position': 'HRGA', 'location': 'Jakarta Utara', 'Tingkat Pekerjaan': 'Pegawai (non-manajemen & non-supervisor)', 'Kualifikasi': 'Tidak terspesifikasi', 'Pengalaman Kerja': '2 tahun', 'Jenis Pekerjaan': 'Penuh Waktu', 'Spesialisasi Pekerjaan': 'Sumber Daya Manusia/Personalia, Sumber Daya Manusia / HR', 'Industri': 'Automobil/Mesin Tambahan Automotif/Kendaraan'}\n",
            "{'company': 'Deloitte', 'position': 'Trainee Admin - Global Employer Services (Immigration)', 'location': 'Jakarta Raya', 'Tingkat Pekerjaan': 'Lulusan baru/Pengalaman kerja kurang dari 1 tahun', 'Kualifikasi': 'Sarjana (S1)', 'Jenis Pekerjaan': 'Magang', 'Spesialisasi Pekerjaan': 'Sumber Daya Manusia/Personalia, Staf / Administrasi umum', 'Pengalaman Kerja': 'Tidak terspesifikasi', 'Industri': 'Akunting / Audit / Layanan Pajak'}\n",
            "{'company': 'Yayasan Petra Harapan Bangsa', 'position': 'Staf Administrasi Pajak', 'location': 'Bandung', 'Tingkat Pekerjaan': 'Pegawai (non-manajemen & non-supervisor)', 'Kualifikasi': 'Sertifikat Professional, D3 (Diploma), D4 (Diploma), Sarjana (S1)', 'Pengalaman Kerja': '2 tahun', 'Jenis Pekerjaan': 'Penuh Waktu', 'Spesialisasi Pekerjaan': 'Akuntansi / Keuangan, Akuntansi Umum / Pembiayaan', 'Industri': 'Pendidikan'}\n",
            "{'company': 'PT Organik Sehat Alami', 'position': 'Recruitment Sourcing', 'location': 'Jakarta Selatan', 'Tingkat Pekerjaan': 'Pegawai (non-manajemen & non-supervisor)', 'Kualifikasi': 'Tidak terspesifikasi', 'Pengalaman Kerja': '2 tahun', 'Jenis Pekerjaan': 'Penuh Waktu', 'Spesialisasi Pekerjaan': 'Sumber Daya Manusia/Personalia, Sumber Daya Manusia / HR', 'Industri': 'Retail/Merchandise'}\n",
            "{'company': 'PT I Like Gym Indonesia', 'position': 'Finance Officer', 'location': 'Jakarta Barat', 'Tingkat Pekerjaan': 'Pegawai (non-manajemen & non-supervisor)', 'Kualifikasi': 'Sarjana (S1)', 'Pengalaman Kerja': '3 tahun', 'Jenis Pekerjaan': 'Penuh Waktu', 'Spesialisasi Pekerjaan': 'Akuntansi / Keuangan, Akuntansi Umum / Pembiayaan', 'Industri': 'Pendidikan'}\n",
            "{'company': 'PT Bentonit Alam Indonesia', 'position': 'SPV Personalia & GA', 'location': 'Jawa Barat', 'Tingkat Pekerjaan': 'Supervisor/Koordinator', 'Kualifikasi': 'SMA, SMU/SMK/STM, Sertifikat Professional, D3 (Diploma), D4 (Diploma), Sarjana (S1)', 'Pengalaman Kerja': '5 tahun', 'Jenis Pekerjaan': 'Penuh Waktu', 'Spesialisasi Pekerjaan': 'Sumber Daya Manusia/Personalia, Staf / Administrasi umum', 'Industri': 'Manufaktur/Produksi'}\n",
            "{'company': 'PT Bentonit Alam Indonesia', 'position': 'KA Gudang', 'location': 'Bogor', 'Tingkat Pekerjaan': 'Supervisor/Koordinator', 'Kualifikasi': 'Tidak terspesifikasi', 'Pengalaman Kerja': '5 tahun', 'Jenis Pekerjaan': 'Penuh Waktu', 'Spesialisasi Pekerjaan': 'Manufaktur, Pembelian/Manajemen Material', 'Industri': 'Manufaktur/Produksi'}\n",
            "{'company': 'PT World Innovative Telecommunication', 'position': 'Recruitment Staff', 'location': 'Jakarta Utara', 'Tingkat Pekerjaan': 'Pegawai (non-manajemen & non-supervisor)', 'Kualifikasi': 'Sarjana (S1)', 'Pengalaman Kerja': '1 tahun', 'Jenis Pekerjaan': 'Penuh Waktu', 'Spesialisasi Pekerjaan': 'Sumber Daya Manusia/Personalia, Sumber Daya Manusia / HR', 'Industri': 'Telekomunikasi'}\n",
            "{'company': 'PT Pyridam Farma Tbk', 'position': 'Formulation', 'location': 'Cikarang', 'Tingkat Pekerjaan': 'Supervisor/Koordinator', 'Kualifikasi': 'Sarjana (S1)', 'Pengalaman Kerja': '1 tahun', 'Jenis Pekerjaan': 'Penuh Waktu', 'Spesialisasi Pekerjaan': 'Manufaktur, Manufaktur', 'Industri': 'Kesehatan/Medis'}\n",
            "{'company': 'PT Xpert Teknologi Inovasi', 'position': 'Accounting/Finance', 'location': 'Jakarta Selatan', 'Tingkat Pekerjaan': 'Pegawai (non-manajemen & non-supervisor)', 'Kualifikasi': 'Sertifikat Professional, D3 (Diploma), D4 (Diploma), Sarjana (S1)', 'Pengalaman Kerja': '1 tahun', 'Jenis Pekerjaan': 'Penuh Waktu', 'Spesialisasi Pekerjaan': 'Akuntansi / Keuangan, Akuntansi Umum / Pembiayaan', 'Industri': 'Konsultasi (IT, Ilmu Pengetahuan, Teknis & Teknikal)'}\n",
            "{'company': 'PT Siix Ems Indonesia', 'position': 'Engineering', 'location': 'Karawang', 'Tingkat Pekerjaan': 'Pegawai (non-manajemen & non-supervisor)', 'Kualifikasi': 'Sertifikat Professional, D3 (Diploma), D4 (Diploma), Sarjana (S1), Diploma Pascasarjana, Gelar Professional, Magister (S2)', 'Pengalaman Kerja': '1 tahun', 'Jenis Pekerjaan': 'Penuh Waktu', 'Spesialisasi Pekerjaan': 'Teknik, Teknik Elektro', 'Industri': 'Manufaktur/Produksi'}\n",
            "{'company': 'PT Jaya Teknik Indonesia', 'position': 'Staf Perpajakan', 'location': 'Jakarta Raya', 'Tingkat Pekerjaan': 'Pegawai (non-manajemen & non-supervisor)', 'Kualifikasi': 'Sarjana (S1)', 'Pengalaman Kerja': '3 tahun', 'Jenis Pekerjaan': 'Penuh Waktu', 'Spesialisasi Pekerjaan': 'Akuntansi / Keuangan, Audit & Pajak', 'Industri': 'Konstruksi/Bangunan/Teknik'}\n",
            "{'company': 'PT ASIA SAWIT MAKMUR JAYA', 'position': 'Accounting (Kota Padang dan Kota Jambi)', 'location': 'Jambi,Pekanbaru,Padang,Medan,Palembang', 'Tingkat Pekerjaan': 'Pegawai (non-manajemen & non-supervisor)', 'Kualifikasi': 'Sertifikat Professional, D3 (Diploma), D4 (Diploma), Sarjana (S1)', 'Pengalaman Kerja': '1 tahun', 'Jenis Pekerjaan': 'Penuh Waktu', 'Spesialisasi Pekerjaan': 'Akuntansi / Keuangan, Akuntansi Umum / Pembiayaan', 'Industri': 'Agrikultural/Perkebunan/Peternakan Unggas/Perikanan'}\n",
            "{'company': 'PT Griya Miesejati (Bakmi GM)', 'position': 'PPIC & Warehouse Supervisor (Bali)', 'location': 'Denpasar', 'Tingkat Pekerjaan': 'Supervisor/Koordinator', 'Kualifikasi': 'Sertifikat Professional, D3 (Diploma), D4 (Diploma), Sarjana (S1)', 'Pengalaman Kerja': '3 tahun', 'Jenis Pekerjaan': 'Penuh Waktu', 'Spesialisasi Pekerjaan': 'Pelayanan, Logistik/Rantai Pasokan', 'Industri': 'Makanan & Minuman/Katering/Restoran'}\n",
            "{'company': 'PT Seluruh Indonesia Online', 'position': 'Accounting Manager (MEDAN)', 'location': 'Sumatera Utara,Sumatera Barat,Sumatera Selatan,Tangerang,Jakarta Raya,Jawa Barat,Jawa Tengah,Jawa Timur,Sulawesi Selatan,Aceh', 'Tingkat Pekerjaan': 'Manajer/Asisten Manajer', 'Kualifikasi': 'SMA, SMU/SMK/STM, Sertifikat Professional, D3 (Diploma), D4 (Diploma), Sarjana (S1)', 'Pengalaman Kerja': '5 tahun', 'Jenis Pekerjaan': 'Penuh Waktu', 'Spesialisasi Pekerjaan': 'Akuntansi / Keuangan, Akuntansi Umum / Pembiayaan', 'Industri': 'Makanan & Minuman/Katering/Restoran'}\n",
            "{'company': 'PT Karya Putra Nusantara Perkasa', 'position': 'Staff HRD', 'location': 'Bandung', 'Tingkat Pekerjaan': 'Supervisor/Koordinator', 'Kualifikasi': 'Sarjana (S1)', 'Pengalaman Kerja': '2 tahun', 'Jenis Pekerjaan': 'Kontrak', 'Spesialisasi Pekerjaan': 'Sumber Daya Manusia/Personalia, Sumber Daya Manusia / HR', 'Industri': 'BioTeknologi/Farmasi/Riset klinik'}\n",
            "{'company': 'PT. Nabawi Herbal Indonesia', 'position': 'HRD', 'location': 'Depok', 'Tingkat Pekerjaan': 'Supervisor/Koordinator', 'Kualifikasi': 'Sarjana (S1)', 'Pengalaman Kerja': '3 tahun', 'Jenis Pekerjaan': 'Penuh Waktu', 'Spesialisasi Pekerjaan': 'Sumber Daya Manusia/Personalia, Sumber Daya Manusia / HR', 'Industri': 'Retail/Merchandise'}\n",
            "{'company': 'PT Maxxis International Indonesia', 'position': 'Safety & Fire Staff', 'location': 'Cikarang', 'Tingkat Pekerjaan': 'Pegawai (non-manajemen & non-supervisor)', 'Kualifikasi': 'Sertifikat Professional, D3 (Diploma), D4 (Diploma), Sarjana (S1)', 'Pengalaman Kerja': '1 tahun', 'Jenis Pekerjaan': 'Penuh Waktu', 'Spesialisasi Pekerjaan': 'Teknik, Teknik Lingkungan', 'Industri': 'Manufaktur/Produksi'}\n",
            "{'company': 'PT Aldmic Indonesia', 'position': 'Admin Finance & Accounting', 'location': 'Jakarta Barat', 'Tingkat Pekerjaan': 'Pegawai (non-manajemen & non-supervisor)', 'Kualifikasi': 'Sertifikat Professional, D3 (Diploma), D4 (Diploma), Sarjana (S1)', 'Pengalaman Kerja': '2 tahun', 'Jenis Pekerjaan': 'Penuh Waktu', 'Spesialisasi Pekerjaan': 'Akuntansi / Keuangan, Akuntansi Umum / Pembiayaan', 'Industri': 'Retail/Merchandise'}\n",
            "{'company': 'PT KLK Agriservindo Indonesia', 'position': 'Ketua K3 Pabrik', 'location': 'Pekanbaru', 'Tingkat Pekerjaan': 'Manajer/Asisten Manajer', 'Kualifikasi': 'Tidak terspesifikasi', 'Pengalaman Kerja': '2 tahun', 'Jenis Pekerjaan': 'Penuh Waktu', 'Spesialisasi Pekerjaan': 'Teknik, Teknik Lingkungan', 'Industri': 'Agrikultural/Perkebunan/Peternakan Unggas/Perikanan'}\n",
            "{'company': 'Mitra Tours And Travel', 'position': 'Document Staff', 'location': 'Jakarta Selatan', 'Tingkat Pekerjaan': 'Pegawai (non-manajemen & non-supervisor)', 'Kualifikasi': 'Sarjana (S1)', 'Pengalaman Kerja': '1 tahun', 'Jenis Pekerjaan': 'Penuh Waktu', 'Spesialisasi Pekerjaan': 'Sumber Daya Manusia/Personalia, Staf / Administrasi umum', 'Industri': 'Travel/Pariwisata'}\n",
            "Total Results:  30\n",
            "{'company': 'PT Coway International Indonesia', 'position': 'Technician Trainer', 'location': 'Jakarta Raya', 'Tingkat Pekerjaan': 'Lulusan baru/Pengalaman kerja kurang dari 1 tahun', 'Kualifikasi': 'Sarjana (S1)', 'Pengalaman Kerja': '1 tahun', 'Jenis Pekerjaan': 'Penuh Waktu', 'Spesialisasi Pekerjaan': 'Teknik, Teknik Elektro', 'Industri': 'Retail/Merchandise'}\n",
            "{'company': 'PT Merdeka Copper Gold Tbk', 'position': 'GIS Officer', 'location': 'Maluku', 'Tingkat Pekerjaan': 'Pegawai (non-manajemen & non-supervisor)', 'Kualifikasi': 'Tidak terspesifikasi', 'Pengalaman Kerja': '1 tahun', 'Jenis Pekerjaan': 'Kontrak', 'Spesialisasi Pekerjaan': 'Sains, Geologi/Geofisika', 'Industri': 'Pertambangan'}\n",
            "{'company': 'PT Infratech Indonesia', 'position': 'Leased Line & Power Bill', 'location': 'Pontianak,Banjarmasin,Balikpapan', 'Tingkat Pekerjaan': 'Pegawai (non-manajemen & non-supervisor)', 'Kualifikasi': 'SMA, SMU/SMK/STM, Sertifikat Professional, D3 (Diploma), D4 (Diploma), Sarjana (S1)', 'Pengalaman Kerja': '2 tahun', 'Jenis Pekerjaan': 'Kontrak', 'Spesialisasi Pekerjaan': 'Teknik, Teknik Elektro', 'Industri': 'Telekomunikasi'}\n",
            "{'company': 'PT Bahtera Wiraniaga Internusa', 'position': 'Sales Admin Makassar dan Bulukumba', 'location': 'Sulawesi Selatan', 'Tingkat Pekerjaan': 'Pegawai (non-manajemen & non-supervisor)', 'Kualifikasi': 'Sertifikat Professional, D3 (Diploma), D4 (Diploma), Sarjana (S1), Diploma Pascasarjana, Gelar Professional, Magister (S2)', 'Pengalaman Kerja': '1 tahun', 'Jenis Pekerjaan': 'Kontrak', 'Spesialisasi Pekerjaan': 'Sumber Daya Manusia/Personalia, Staf / Administrasi umum', 'Industri': 'Produk Konsumen/Barang konsumen yang bergerak cepat'}\n",
            "{'company': 'PT Mutiara Hitam Pertiwi (Mutiara Carita Cottage)', 'position': 'Reservation Officer', 'location': 'Pandeglang', 'Tingkat Pekerjaan': 'Pegawai (non-manajemen & non-supervisor)', 'Kualifikasi': 'Sarjana (S1)', 'Pengalaman Kerja': '1 tahun', 'Jenis Pekerjaan': 'Penuh Waktu', 'Spesialisasi Pekerjaan': 'Hotel/Restoran, Hotel/Pariwisata', 'Industri': 'Hotel/Pariwisata'}\n",
            "{'company': 'PT Softex Indonesia', 'position': 'Executive Secretary', 'location': 'Tangerang', 'Tingkat Pekerjaan': 'Supervisor/Koordinator', 'Kualifikasi': 'Sarjana (S1), Diploma Pascasarjana, Gelar Professional, Magister (S2)', 'Pengalaman Kerja': '3 tahun', 'Jenis Pekerjaan': 'Penuh Waktu', 'Spesialisasi Pekerjaan': 'Sumber Daya Manusia/Personalia, Sekretaris', 'Industri': 'Manufaktur/Produksi'}\n",
            "{'company': 'PT Myungrang Hotdog Indonesia', 'position': 'Store Crew (Samarinda)', 'location': 'Samarinda', 'Tingkat Pekerjaan': 'Pegawai (non-manajemen & non-supervisor)', 'Kualifikasi': 'SMA, SMU/SMK/STM, Sertifikat Professional, D3 (Diploma), D4 (Diploma), Sarjana (S1)', 'Pengalaman Kerja': '1 tahun', 'Jenis Pekerjaan': 'Penuh Waktu', 'Spesialisasi Pekerjaan': 'Hotel/Restoran, Makanan/Minuman/Pelayanan Restoran', 'Industri': 'Makanan & Minuman/Katering/Restoran'}\n",
            "{'company': 'PT Exa Mitra Solusi', 'position': 'SUPERVISOR HR', 'location': 'Jakarta Barat', 'Tingkat Pekerjaan': 'Supervisor/Koordinator', 'Kualifikasi': 'Sarjana (S1)', 'Pengalaman Kerja': '3 tahun', 'Jenis Pekerjaan': 'Penuh Waktu', 'Spesialisasi Pekerjaan': 'Sumber Daya Manusia/Personalia, Sumber Daya Manusia / HR', 'Industri': 'Manajemen/Konsulting HR'}\n",
            "{'company': 'PT SGMW Motor Indonesia', 'position': 'Payroll System Specialist', 'location': 'Cikarang', 'Tingkat Pekerjaan': 'Supervisor/Koordinator', 'Kualifikasi': 'Sarjana (S1)', 'Pengalaman Kerja': '3 tahun', 'Jenis Pekerjaan': 'Penuh Waktu', 'Spesialisasi Pekerjaan': 'Sumber Daya Manusia/Personalia, Sumber Daya Manusia / HR', 'Industri': 'Manufaktur/Produksi'}\n",
            "{'company': 'PT Maxxis International Indonesia', 'position': 'Material Preparing Operator', 'location': 'Cikarang', 'Tingkat Pekerjaan': 'Lulusan baru/Pengalaman kerja kurang dari 1 tahun', 'Kualifikasi': 'SMA, SMU/SMK/STM', 'Jenis Pekerjaan': 'Penuh Waktu', 'Spesialisasi Pekerjaan': 'Manufacturing, Manufacturing', 'Pengalaman Kerja': 'Tidak terspesifikasi', 'Industri': 'Manufacturing / Production'}\n",
            "{'company': 'PT Bureau Veritas Indonesia', 'position': 'Laboratory Operations Supervisor', 'location': 'Kalimantan Timur', 'Tingkat Pekerjaan': 'Supervisor/Koordinator', 'Kualifikasi': 'Sarjana (S1)', 'Pengalaman Kerja': '5 tahun', 'Jenis Pekerjaan': 'Penuh Waktu', 'Spesialisasi Pekerjaan': 'Teknik, Teknik Kimia', 'Industri': 'Konstruksi/Bangunan/Teknik'}\n",
            "{'company': 'PT Pangeran Maju Bahagia', 'position': 'IT STAFF', 'location': 'Tangerang', 'Tingkat Pekerjaan': 'Pegawai (non-manajemen & non-supervisor)', 'Kualifikasi': 'Tidak terspesifikasi', 'Pengalaman Kerja': '2 tahun', 'Jenis Pekerjaan': 'Penuh Waktu', 'Spesialisasi Pekerjaan': 'Komputer/Teknologi Informasi, IT-Admin Jaringan/Sistem/Database', 'Industri': 'Retail/Merchandise'}\n",
            "{'company': 'PT Indo Kordsa Tbk', 'position': 'Quality Engineer', 'location': 'Citeureup', 'Tingkat Pekerjaan': 'Supervisor/Koordinator', 'Kualifikasi': 'Sarjana (S1), Diploma Pascasarjana, Gelar Professional, Magister (S2)', 'Pengalaman Kerja': '3 tahun', 'Jenis Pekerjaan': 'Penuh Waktu', 'Spesialisasi Pekerjaan': 'Manufaktur, Penjaminan Kualitas / QA', 'Industri': 'Manufaktur/Produksi'}\n",
            "{'company': 'Sekolah Noah', 'position': 'HR Legal & Payroll', 'location': 'Jakarta Timur', 'Tingkat Pekerjaan': 'Supervisor/Koordinator', 'Kualifikasi': 'Sarjana (S1), Diploma Pascasarjana, Gelar Professional, Magister (S2)', 'Pengalaman Kerja': '5 tahun', 'Jenis Pekerjaan': 'Penuh Waktu', 'Spesialisasi Pekerjaan': 'Sumber Daya Manusia/Personalia, Sumber Daya Manusia / HR', 'Industri': 'Pendidikan'}\n",
            "{'company': 'PT Chandra Asri Petrochemical Tbk', 'position': 'Static Predictive Maintenance Engineer', 'location': 'Cilegon', 'Tingkat Pekerjaan': 'Supervisor/Koordinator', 'Kualifikasi': 'Sarjana (S1)', 'Pengalaman Kerja': '2 tahun', 'Jenis Pekerjaan': 'Penuh Waktu', 'Spesialisasi Pekerjaan': 'Teknik, Mekanikal', 'Industri': 'Bahan Kimia/Pupuk/Pestisida'}\n",
            "{'company': 'PT Poly Stamino Indonesia', 'position': 'Accounting Admin Staf', 'location': 'Jakarta Barat', 'Tingkat Pekerjaan': 'Pegawai (non-manajemen & non-supervisor)', 'Kualifikasi': 'Sarjana (S1)', 'Pengalaman Kerja': '2 tahun', 'Jenis Pekerjaan': 'Penuh Waktu', 'Spesialisasi Pekerjaan': 'Akuntansi / Keuangan, Akuntansi Umum / Pembiayaan', 'Industri': 'Lingkungan/Kesehatan/Keamanan'}\n",
            "{'company': 'PT Nestle Indonesia', 'position': 'Modern Trade Sales Controller', 'location': 'Jakarta Selatan', 'Tingkat Pekerjaan': 'Pegawai (non-manajemen & non-supervisor)', 'Kualifikasi': 'Sarjana (S1), Diploma Pascasarjana, Gelar Professional, Magister (S2)', 'Pengalaman Kerja': '2 tahun', 'Jenis Pekerjaan': 'Penuh Waktu', 'Spesialisasi Pekerjaan': 'Akuntansi / Keuangan, Akuntansi Umum / Pembiayaan', 'Industri': 'Produk Konsumen/Barang konsumen yang bergerak cepat'}\n",
            "{'company': 'PT Motasa Indonesia ( Ladaku )', 'position': 'Head of Department HC (Unit OCD- SDP)', 'location': 'Mojokerto', 'Tingkat Pekerjaan': 'CEO/GM/Direktur/Manajer Senior', 'Kualifikasi': 'Sarjana (S1)', 'Pengalaman Kerja': '5 tahun', 'Jenis Pekerjaan': 'Penuh Waktu', 'Spesialisasi Pekerjaan': 'Sumber Daya Manusia/Personalia, Sumber Daya Manusia / HR', 'Industri': 'Produk Konsumen/Barang konsumen yang bergerak cepat'}\n",
            "{'company': 'PT Citra Tubindo Tbk', 'position': 'Apprenticeship Costing Officer', 'location': 'Batam', 'Tingkat Pekerjaan': 'Lulusan baru/Pengalaman kerja kurang dari 1 tahun', 'Kualifikasi': 'Tidak terspesifikasi', 'Jenis Pekerjaan': 'Magang', 'Spesialisasi Pekerjaan': 'Akuntansi / Keuangan, Akuntansi Umum / Pembiayaan', 'Pengalaman Kerja': 'Tidak terspesifikasi', 'Industri': 'Manufaktur/Produksi'}\n",
            "{'company': 'PT Alkonusa Teknik Interkon', 'position': 'Safety Officer', 'location': 'Halmahera', 'Tingkat Pekerjaan': 'Supervisor/Koordinator', 'Kualifikasi': 'Sertifikat Professional, D3 (Diploma), D4 (Diploma), Sarjana (S1)', 'Pengalaman Kerja': '1 tahun', 'Jenis Pekerjaan': 'Penuh Waktu', 'Spesialisasi Pekerjaan': 'Teknik, Teknik Lingkungan', 'Industri': 'Konstruksi/Bangunan/Teknik'}\n",
            "{'company': 'PT Bahtera Wiraniaga Internusa', 'position': 'MANAGEMENT INFORMATION SYSTEM', 'location': 'Jakarta Timur', 'Tingkat Pekerjaan': 'Supervisor/Koordinator', 'Kualifikasi': 'Sertifikat Professional, D3 (Diploma), D4 (Diploma), Sarjana (S1), Diploma Pascasarjana, Gelar Professional, Magister (S2)', 'Pengalaman Kerja': '1 tahun', 'Jenis Pekerjaan': 'Penuh Waktu', 'Spesialisasi Pekerjaan': 'Akuntansi / Keuangan, Akuntansi Umum / Pembiayaan', 'Industri': 'Produk Konsumen/Barang konsumen yang bergerak cepat'}\n",
            "{'company': 'PT Mott MacDonald Indonesia', 'position': 'Electrical Inspector - Contract based', 'location': 'Palembang', 'Tingkat Pekerjaan': 'Supervisor/Koordinator', 'Kualifikasi': 'Tidak terspesifikasi', 'Pengalaman Kerja': '5 tahun', 'Jenis Pekerjaan': 'Kontrak', 'Spesialisasi Pekerjaan': 'Teknik, Teknik Elektro', 'Industri': 'Konstruksi/Bangunan/Teknik'}\n",
            "{'company': 'PT Lynea Primisima', 'position': 'Customer Service Ecommerce', 'location': 'Jakarta Barat', 'Tingkat Pekerjaan': 'Pegawai (non-manajemen & non-supervisor)', 'Kualifikasi': 'Tidak terspesifikasi', 'Pengalaman Kerja': '5 tahun', 'Jenis Pekerjaan': 'Penuh Waktu', 'Spesialisasi Pekerjaan': 'Services, Customer Service', 'Industri': 'Grooming / Beauty / Fitness'}\n",
            "{'company': 'PT. Graha Perdana Indah', 'position': 'Project Secretary', 'location': 'Depok', 'Tingkat Pekerjaan': 'Manajer/Asisten Manajer', 'Kualifikasi': 'Sarjana (S1)', 'Pengalaman Kerja': '5 tahun', 'Jenis Pekerjaan': 'Penuh Waktu', 'Spesialisasi Pekerjaan': 'Sumber Daya Manusia/Personalia, Sekretaris', 'Industri': 'Properti/Real Estate'}\n",
            "{'company': 'PT Nusasembada Bangunindo', 'position': 'Quality Surveyor', 'location': 'Makassar', 'Tingkat Pekerjaan': 'Pegawai (non-manajemen & non-supervisor)', 'Kualifikasi': 'Sarjana (S1)', 'Pengalaman Kerja': '1 tahun', 'Jenis Pekerjaan': 'Penuh Waktu', 'Spesialisasi Pekerjaan': 'Bangunan/Konstruksi, Teknik Sipil/Konstruksi Bangunan', 'Industri': 'Properti/Real Estate'}\n",
            "{'company': 'PT. Uwinfly Indonesia Industries', 'position': 'Staff Pajak', 'location': 'Jawa Tengah', 'Tingkat Pekerjaan': 'Pegawai (non-manajemen & non-supervisor)', 'Kualifikasi': 'Sarjana (S1)', 'Pengalaman Kerja': '2 tahun', 'Jenis Pekerjaan': 'Penuh Waktu', 'Spesialisasi Pekerjaan': 'Akuntansi / Keuangan, Audit & Pajak', 'Industri': 'Elektrikal & Elektronik'}\n",
            "{'company': 'PT Jaya Kencana', 'position': 'Staf Recruitment HRD', 'location': 'Jakarta Pusat', 'Tingkat Pekerjaan': 'Pegawai (non-manajemen & non-supervisor)', 'Kualifikasi': 'Sarjana (S1)', 'Pengalaman Kerja': '2 tahun', 'Jenis Pekerjaan': 'Penuh Waktu', 'Spesialisasi Pekerjaan': 'Sumber Daya Manusia/Personalia, Sumber Daya Manusia / HR', 'Industri': 'Konstruksi/Bangunan/Teknik'}\n",
            "{'company': 'PT Multi Teknologi Inspeksi', 'position': 'TECHNICAL ENGINEER', 'location': 'Tangerang', 'Tingkat Pekerjaan': 'Pegawai (non-manajemen & non-supervisor)', 'Kualifikasi': 'Sarjana (S1)', 'Jenis Pekerjaan': 'Kontrak', 'Spesialisasi Pekerjaan': 'Teknik, Minyak/Gas', 'Pengalaman Kerja': 'Tidak terspesifikasi', 'Industri': 'Konsultasi (Bisnis & Manajemen)'}\n",
            "{'company': 'PT INDRA ANGKOLA', 'position': 'HR People Development Asisten Manager', 'location': 'Medan', 'Tingkat Pekerjaan': 'Manajer/Asisten Manajer', 'Kualifikasi': 'Tidak terspesifikasi', 'Pengalaman Kerja': '3 tahun', 'Jenis Pekerjaan': 'Penuh Waktu', 'Spesialisasi Pekerjaan': 'Sumber Daya Manusia/Personalia, Sumber Daya Manusia / HR', 'Industri': 'Minyak/Gas/Petroleum'}\n",
            "{'company': 'PT Ki-Antaka Rasa', 'position': 'Staff engineering elektrik', 'location': 'Tangerang', 'Tingkat Pekerjaan': 'Pegawai (non-manajemen & non-supervisor)', 'Kualifikasi': 'Sertifikat Professional, D3 (Diploma), D4 (Diploma)', 'Pengalaman Kerja': '1 tahun', 'Jenis Pekerjaan': 'Penuh Waktu', 'Spesialisasi Pekerjaan': 'Teknik, Teknik Elektro', 'Industri': 'Manufaktur/Produksi'}\n",
            "Total Results:  60\n",
            "{'company': 'ESQ Group', 'position': 'Finance & Accounting F&B', 'location': 'Jakarta Raya', 'Tingkat Pekerjaan': 'Pegawai (non-manajemen & non-supervisor)', 'Kualifikasi': 'Sarjana (S1)', 'Pengalaman Kerja': '4 tahun', 'Jenis Pekerjaan': 'Penuh Waktu', 'Spesialisasi Pekerjaan': 'Akuntansi / Keuangan, Akuntansi Umum / Pembiayaan', 'Industri': 'Konsultasi (Bisnis & Manajemen)'}\n",
            "{'company': 'PT Berlian Laju Tanker, Tbk', 'position': 'Operational Staff - Shipping', 'location': 'Jakarta Pusat', 'Tingkat Pekerjaan': 'Pegawai (non-manajemen & non-supervisor)', 'Kualifikasi': 'Sarjana (S1)', 'Pengalaman Kerja': '1 tahun', 'Jenis Pekerjaan': 'Penuh Waktu', 'Spesialisasi Pekerjaan': 'Pelayanan, Logistik/Rantai Pasokan', 'Industri': 'Transportasi/Logistik'}\n",
            "{'company': 'PT Chandra Asri Petrochemical Tbk', 'position': 'Polymer Rotating Inspector', 'location': 'Cilegon', 'Tingkat Pekerjaan': 'Lulusan baru/Pengalaman kerja kurang dari 1 tahun', 'Kualifikasi': 'Sertifikat Professional, D3 (Diploma), D4 (Diploma)', 'Pengalaman Kerja': '1 tahun', 'Jenis Pekerjaan': 'Penuh Waktu', 'Spesialisasi Pekerjaan': 'Manufaktur, Pemeliharaan', 'Industri': 'Bahan Kimia/Pupuk/Pestisida'}\n",
            "{'company': 'PT. PUSAKA JAMAN RAJA', 'position': 'Tenaga Teknis Kehutanan Rehabilitasi DAS', 'location': 'Kalimantan Barat', 'Tingkat Pekerjaan': 'Pegawai (non-manajemen & non-supervisor)', 'Kualifikasi': 'Sarjana (S1)', 'Pengalaman Kerja': '1 tahun', 'Jenis Pekerjaan': 'Penuh Waktu', 'Spesialisasi Pekerjaan': 'Sains, Pertanian', 'Industri': 'Pertambangan'}\n",
            "{'company': 'PT Eigerindo Multi Produk Industri', 'position': 'QA Product Supervisor', 'location': 'Bandung', 'Tingkat Pekerjaan': 'Supervisor/Koordinator', 'Kualifikasi': 'Sertifikat Professional, D3 (Diploma), D4 (Diploma)', 'Pengalaman Kerja': '5 tahun', 'Jenis Pekerjaan': 'Penuh Waktu', 'Spesialisasi Pekerjaan': 'Manufaktur, Penjaminan Kualitas / QA', 'Industri': 'Retail/Merchandise'}\n",
            "{'company': 'PT Bureau Veritas Indonesia', 'position': 'Lab Analyst', 'location': 'Kalimantan Timur', 'Tingkat Pekerjaan': 'Pegawai (non-manajemen & non-supervisor)', 'Kualifikasi': 'Sarjana (S1)', 'Pengalaman Kerja': '5 tahun', 'Jenis Pekerjaan': 'Penuh Waktu', 'Spesialisasi Pekerjaan': 'Sains, Kimia', 'Industri': 'Konstruksi/Bangunan/Teknik'}\n",
            "{'company': 'PT Organik Sehat Alami', 'position': 'Talent Acquisition Specialist', 'location': 'Jakarta Selatan', 'Tingkat Pekerjaan': 'Supervisor/Koordinator', 'Kualifikasi': 'Tidak terspesifikasi', 'Pengalaman Kerja': '5 tahun', 'Jenis Pekerjaan': 'Penuh Waktu', 'Spesialisasi Pekerjaan': 'Sumber Daya Manusia/Personalia, Sumber Daya Manusia / HR', 'Industri': 'Retail/Merchandise'}\n",
            "{'company': 'de_sketsa group', 'position': 'KEPALA DIVISI PRODUKSI', 'location': 'Jakarta Barat', 'Tingkat Pekerjaan': 'Manajer/Asisten Manajer', 'Kualifikasi': 'Sertifikat Professional, D3 (Diploma), D4 (Diploma), Sarjana (S1)', 'Pengalaman Kerja': '1 tahun', 'Jenis Pekerjaan': 'Penuh Waktu', 'Spesialisasi Pekerjaan': 'Manufaktur, Manufaktur', 'Industri': 'Pelayanan Arsitek/Desain Interior'}\n"
          ]
        }
      ],
      "source": [
        "chunkedScrapper()"
      ]
    }
  ],
  "metadata": {
    "accelerator": "GPU",
    "colab": {
      "collapsed_sections": [],
      "provenance": [],
      "authorship_tag": "ABX9TyN6B/ffShtOBbKcXbSuyAN1",
      "include_colab_link": true
    },
    "kernelspec": {
      "display_name": "Python 3",
      "name": "python3"
    },
    "language_info": {
      "name": "python"
    }
  },
  "nbformat": 4,
  "nbformat_minor": 0
}